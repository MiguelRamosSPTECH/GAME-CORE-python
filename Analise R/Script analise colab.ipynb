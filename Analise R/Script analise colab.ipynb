{
  "nbformat": 4,
  "nbformat_minor": 0,
  "metadata": {
    "colab": {
      "provenance": []
    },
    "kernelspec": {
      "name": "python3",
      "display_name": "Python 3"
    },
    "language_info": {
      "name": "python"
    }
  },
  "cells": [
    {
      "cell_type": "markdown",
      "source": [
        "Importação e preparação dos dados:\n",
        "\n",
        " Aqui, juntamos os dados coletados em um único objeto 'dados'.\n",
        " Em seguida, removemos colunas que não serão usadas nesta etapa da análise."
      ],
      "metadata": {
        "id": "lz0xESxVM2tD"
      }
    },
    {
      "cell_type": "code",
      "execution_count": null,
      "metadata": {
        "id": "gzUiWCReMl08"
      },
      "outputs": [],
      "source": [
        "dados <- rbind(csv_grupo)\n",
        "dados <- dados[, -c(1,2,7)]"
      ]
    },
    {
      "cell_type": "markdown",
      "source": [
        "# Entendendo as amostas:"
      ],
      "metadata": {
        "id": "SaYsV6CWvQMq"
      }
    },
    {
      "cell_type": "code",
      "source": [
        "plot(dados$cpu_porcentagem, main = \"Percentual de Utilização da CPU\")\n",
        "plot(dados$ram_porcentagem, main = \"Percentual de Utilização da Memória (RAM)\")"
      ],
      "metadata": {
        "id": "le4ZP3WIvSTQ"
      },
      "execution_count": null,
      "outputs": []
    },
    {
      "cell_type": "markdown",
      "source": [
        "Com esses graficos, podemos ver que os dados capturados variam bastante, devido a diferença de maquinas que deram os dados, logo devemos desconsiderar certas relações"
      ],
      "metadata": {
        "id": "LNlVAn7YvS7C"
      }
    },
    {
      "cell_type": "markdown",
      "source": [
        "Em seguida, analisamos quais dados tem correlação significativa, no caso, foi escolhido a parti de 0.39 para a correlação ser considerada forte"
      ],
      "metadata": {
        "id": "2-9SPNxLjzdh"
      }
    },
    {
      "cell_type": "code",
      "source": [
        "relacoes_uso_cpu <- cor(dados$cpu_porcentagem, dados[,-1])\n",
        "names(relacoes_uso_cpu) <- colnames(dados[,-1])\n",
        "\n",
        "correlacoes_significativas_cpu <- relacoes_uso_cpu[abs(relacoes_uso_cpu) >= 0.39]\n",
        "correlacoes_significativas_cpu"
      ],
      "metadata": {
        "id": "xKLrdwrekMBs"
      },
      "execution_count": null,
      "outputs": []
    },
    {
      "cell_type": "markdown",
      "source": [
        "Resultados:\n",
        "\n",
        "    cpu_usuarios_porcentagem  -> 0.9655\n",
        "    cpu_sistema_porcentagem   -> 0.9346\n",
        "    disco_throughput_mbs      -> 0.4057\n",
        "    disco_throughput_gbs      -> 0.3987\n",
        "\n",
        "Essas variáveis são as mais relevantes para a nossa analise do uso da CPU."
      ],
      "metadata": {
        "id": "XLapegcrkP1C"
      }
    },
    {
      "cell_type": "markdown",
      "source": [
        "Agora fizemos a analise sobre o R² da utilização do usuario em relação ao total da CPU e da utilização do sistema em relação à CPU"
      ],
      "metadata": {
        "id": "ycwC3CM1knu8"
      }
    },
    {
      "cell_type": "code",
      "source": [
        "  correlacao_usuario <- cor(dados$cpu_porcentagem, dados$cpu_usuarios_porcentagem)\n",
        "\n",
        "  print(correlacao_usuario * correlacao_usuario)\n",
        "  # 93% - Extremamente relevante\n",
        "\n",
        "  correlacao_sistema <- cor(dados$cpu_porcentagem, dados$cpu_sistema_porcentagem)\n",
        "\n",
        "  print(correlacao_sistema * correlacao_sistema)\n",
        "  # 87% - Extremamente relevante"
      ],
      "metadata": {
        "id": "HmwpZ9yFlIye"
      },
      "execution_count": null,
      "outputs": []
    },
    {
      "cell_type": "markdown",
      "source": [
        "Concluimos que a correlação da CPU usada pelo usuario com a CPU total é maior que a da CPU usada pelo sistema em relação à total"
      ],
      "metadata": {
        "id": "4ZadyF0IlfKk"
      }
    },
    {
      "cell_type": "markdown",
      "source": [
        "Para entender melhor, analisamos o quanto o uso da CPU pelo usuário impacta diretamente na utilização da CPU pelo sistema."
      ],
      "metadata": {
        "id": "9uPGP4jAlpZO"
      }
    },
    {
      "cell_type": "code",
      "source": [
        " correlacao_partes <- cor(dados$cpu_usuarios_porcentagem, dados$cpu_sistema_porcentagem)\n",
        "\n",
        "  print(correlacao_partes ^2)\n",
        "  # 66%"
      ],
      "metadata": {
        "id": "g6YMD4u0mzS0"
      },
      "execution_count": null,
      "outputs": []
    },
    {
      "cell_type": "markdown",
      "source": [
        "Com isso, é possível ver que há uma interferencia muito forte de uma variavel para outra, logo não faz sentido ter as duas como metricas"
      ],
      "metadata": {
        "id": "zIDaL7Q-m2EU"
      }
    },
    {
      "cell_type": "markdown",
      "source": [
        "Escolhendo a mais adequada:"
      ],
      "metadata": {
        "id": "OQnisVMqnEsc"
      }
    },
    {
      "cell_type": "code",
      "source": [
        "    boxplot(dados$cpu_usuarios_porcentagem,\n",
        "            dados$cpu_sistema_porcentagem,\n",
        "            names = c(\"CPU Usuário\", \"CPU Sistema\"),\n",
        "            col = c(\"#1f77b4\", \"#ff7f0e\"),\n",
        "            border = \"black\",\n",
        "            main = \"Comparação de oscilação\",\n",
        "            ylab = \"CPU (%)\")"
      ],
      "metadata": {
        "id": "OG0WfcIGnHaP"
      },
      "execution_count": null,
      "outputs": []
    },
    {
      "cell_type": "markdown",
      "source": [
        "Com isso e com pesquisas externas, podemos concluir que a cpu_sistema oscila menos e influencia menos na CPU total, logo escolhemos a cpu_usuario para dar como metrica"
      ],
      "metadata": {
        "id": "6U70-6mQnNJM"
      }
    },
    {
      "cell_type": "code",
      "source": [
        "    plot(dados$cpu_porcentagem, dados$cpu_usuarios_porcentagem,\n",
        "         main = \"Relação entre Uso de CPU e Disco Throughput\",\n",
        "         xlab = \"CPU (%)\",\n",
        "         ylab = \"Disco Throughput (MB/s)\",\n",
        "         col = \"blue\")\n",
        "\n",
        "    abline(lm(cpu_usuarios_porcentagem ~ cpu_porcentagem, data = dados))\n",
        ""
      ],
      "metadata": {
        "id": "pEH8OnPCqQcT"
      },
      "execution_count": null,
      "outputs": []
    },
    {
      "cell_type": "markdown",
      "source": [
        "Estabelecendo as correlações entre o disco throughput e o uso de CPU:\n",
        "\n",
        "Sendo cpu_usuario e disco_throughput_mbs as metricas para CPU"
      ],
      "metadata": {
        "id": "UJEVugRCsfTI"
      }
    },
    {
      "cell_type": "code",
      "source": [
        "correlacao_cpu_disco <- cor(dados$cpu_porcentagem, dados$disco_throughput_mbs)\n",
        "print(correlacao_cpu_disco ^2)\n",
        "# 16.45% - Relação fraca, mas existente.\n",
        "\n",
        "plot(dados$cpu_porcentagem, dados$disco_throughput_mbs,\n",
        "     main = \"Relação entre Uso de CPU e Disco Throughput (MB/s)\",\n",
        "     xlab = \"CPU (%)\",\n",
        "     ylab = \"Disco Throughput (MB/s)\",\n",
        "     col = \"blue\")\n",
        "\n",
        "abline(lm(disco_throughput_mbs ~ cpu_porcentagem, data = dados))"
      ],
      "metadata": {
        "id": "X5z8eb6Gs0d2"
      },
      "execution_count": null,
      "outputs": []
    },
    {
      "cell_type": "markdown",
      "source": [
        "# Vendo relações com a RAM\n",
        "\n"
      ],
      "metadata": {
        "id": "wQ7G5Yc7qkot"
      }
    },
    {
      "cell_type": "markdown",
      "source": [
        "Agora, repetimos o processo para a RAM, observando quais variáveis\n",
        "têm relação direta com seu uso total."
      ],
      "metadata": {
        "id": "Qqe3HV9XqyAS"
      }
    },
    {
      "cell_type": "code",
      "source": [
        "relacoes_uso_ram <- cor(dados$ram_porcentagem, dados[,-c(5,6,7,8,9,10)])\n",
        "\n",
        "names(relacoes_uso_ram) <- colnames(dados[,-c(5,6,7,8,9,10)])\n",
        "\n",
        "colnames(relacoes_uso_ram)\n",
        "\n",
        "correlacoes_significativas_ram <- relacoes_uso_ram[abs(relacoes_uso_ram) >= 0.39]\n",
        "\n",
        "correlacoes_significativas_ram\n",
        "\n",
        "# Resultado:\n",
        "# ram_swap_porcentagem -> 0.5567 (única relação significativa)\n",
        "print(0.5566794 ^2)\n",
        "# 30.98% - Parte considerável do uso total de RAM é explicada pela swap."
      ],
      "metadata": {
        "id": "9mE_marfqr5E"
      },
      "execution_count": null,
      "outputs": []
    },
    {
      "cell_type": "markdown",
      "source": [
        "Fazendo a regressão linear do swap de memoria e da memoria total"
      ],
      "metadata": {
        "id": "wJkU8brmrvGx"
      }
    },
    {
      "cell_type": "code",
      "source": [
        "plot(dados$ram_porcentagem, dados$ram_swap_porcentagem,\n",
        "     main = \"Relação entre RAM Total e RAM Swap\",\n",
        "     xlab = \"RAM Total (%)\",\n",
        "     ylab = \"RAM Swap (%)\",\n",
        "     col = \"green\")\n",
        "\n",
        "abline(lm(ram_swap_porcentagem ~ ram_porcentagem, data = dados))"
      ],
      "metadata": {
        "id": "x1ivAlpYsO6_"
      },
      "execution_count": null,
      "outputs": []
    },
    {
      "cell_type": "markdown",
      "source": [
        "# DEFININDO LIMITES DE ALERTA"
      ],
      "metadata": {
        "id": "kcswyHQJuDuG"
      }
    },
    {
      "cell_type": "code",
      "source": [
        "box_cpu <- boxplot(dados$cpu_porcentagem,\n",
        "                   main = \"Distribuição do Uso de CPU (%)\")\n",
        "\n",
        "box_cpu$stats\n",
        "\n",
        "# Definindo resultados:\n",
        "# - Valor máximo (sem outliers): 18.3%\n",
        "# - Considerando 3 containers por servidor: Limite total ≈ 54.9%\n",
        "# - Faixas sugeridas:\n",
        "\n",
        "#     - Alerta medio: 54.9%\n",
        "#     - Alerta alto:82.3%"
      ],
      "metadata": {
        "id": "atrI3Wm0uFB0"
      },
      "execution_count": null,
      "outputs": []
    },
    {
      "cell_type": "code",
      "source": [
        "box_ram <- boxplot(dados$ram_porcentagem,\n",
        "                   main = \"Distribuição do Uso de RAM (%)\")\n",
        "\n",
        "box_ram$stats\n",
        "\n",
        "# Interpretação:\n",
        "# - Q3 (topo da caixa): 85.4%\n",
        "# - Q4 (Bigode superior): 91.6%\n",
        "# - Uso acima de 91.6% pode ser considerado arriscado, por ser um outlier\n",
        "\n",
        "#     - Alerta medio: 85.4%\n",
        "#     - Alerta alto: 91.6%"
      ],
      "metadata": {
        "id": "uo4glpYauZ1-"
      },
      "execution_count": null,
      "outputs": []
    }
  ]
}